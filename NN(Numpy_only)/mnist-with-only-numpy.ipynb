{
 "cells": [
  {
   "cell_type": "code",
   "execution_count": 1,
   "id": "54dfa34c",
   "metadata": {
    "_cell_guid": "b1076dfc-b9ad-4769-8c92-a6c4dae69d19",
    "_uuid": "8f2839f25d086af736a60e9eeb907d3b93b6e0e5",
    "execution": {
     "iopub.execute_input": "2024-10-29T09:40:19.519294Z",
     "iopub.status.busy": "2024-10-29T09:40:19.518768Z",
     "iopub.status.idle": "2024-10-29T09:40:20.400449Z",
     "shell.execute_reply": "2024-10-29T09:40:20.399466Z"
    },
    "papermill": {
     "duration": 0.893077,
     "end_time": "2024-10-29T09:40:20.403301",
     "exception": false,
     "start_time": "2024-10-29T09:40:19.510224",
     "status": "completed"
    },
    "tags": []
   },
   "outputs": [],
   "source": [
    "import numpy as np # linear algebra\n",
    "import pandas as pd # data processing, CSV file I/O (e.g. pd.read_csv)"
   ]
  },
  {
   "cell_type": "code",
   "execution_count": 2,
   "id": "a2300f53",
   "metadata": {
    "execution": {
     "iopub.execute_input": "2024-10-29T09:40:20.418265Z",
     "iopub.status.busy": "2024-10-29T09:40:20.417099Z",
     "iopub.status.idle": "2024-10-29T09:40:20.422349Z",
     "shell.execute_reply": "2024-10-29T09:40:20.421314Z"
    },
    "papermill": {
     "duration": 0.015017,
     "end_time": "2024-10-29T09:40:20.424799",
     "exception": false,
     "start_time": "2024-10-29T09:40:20.409782",
     "status": "completed"
    },
    "tags": []
   },
   "outputs": [],
   "source": [
    "from matplotlib import pyplot as plt"
   ]
  },
  {
   "cell_type": "code",
   "execution_count": 3,
   "id": "ff6e82ca",
   "metadata": {
    "execution": {
     "iopub.execute_input": "2024-10-29T09:40:20.438538Z",
     "iopub.status.busy": "2024-10-29T09:40:20.438112Z",
     "iopub.status.idle": "2024-10-29T09:40:24.780062Z",
     "shell.execute_reply": "2024-10-29T09:40:24.778956Z"
    },
    "papermill": {
     "duration": 4.351816,
     "end_time": "2024-10-29T09:40:24.782828",
     "exception": false,
     "start_time": "2024-10-29T09:40:20.431012",
     "status": "completed"
    },
    "tags": []
   },
   "outputs": [],
   "source": [
    "data=pd.read_csv(\"/kaggle/input/digit-recognizer/train.csv\")"
   ]
  },
  {
   "cell_type": "code",
   "execution_count": 4,
   "id": "ae84797d",
   "metadata": {
    "execution": {
     "iopub.execute_input": "2024-10-29T09:40:24.797705Z",
     "iopub.status.busy": "2024-10-29T09:40:24.797235Z",
     "iopub.status.idle": "2024-10-29T09:40:24.828860Z",
     "shell.execute_reply": "2024-10-29T09:40:24.827933Z"
    },
    "papermill": {
     "duration": 0.041788,
     "end_time": "2024-10-29T09:40:24.831144",
     "exception": false,
     "start_time": "2024-10-29T09:40:24.789356",
     "status": "completed"
    },
    "tags": []
   },
   "outputs": [
    {
     "data": {
      "text/html": [
       "<div>\n",
       "<style scoped>\n",
       "    .dataframe tbody tr th:only-of-type {\n",
       "        vertical-align: middle;\n",
       "    }\n",
       "\n",
       "    .dataframe tbody tr th {\n",
       "        vertical-align: top;\n",
       "    }\n",
       "\n",
       "    .dataframe thead th {\n",
       "        text-align: right;\n",
       "    }\n",
       "</style>\n",
       "<table border=\"1\" class=\"dataframe\">\n",
       "  <thead>\n",
       "    <tr style=\"text-align: right;\">\n",
       "      <th></th>\n",
       "      <th>label</th>\n",
       "      <th>pixel0</th>\n",
       "      <th>pixel1</th>\n",
       "      <th>pixel2</th>\n",
       "      <th>pixel3</th>\n",
       "      <th>pixel4</th>\n",
       "      <th>pixel5</th>\n",
       "      <th>pixel6</th>\n",
       "      <th>pixel7</th>\n",
       "      <th>pixel8</th>\n",
       "      <th>...</th>\n",
       "      <th>pixel774</th>\n",
       "      <th>pixel775</th>\n",
       "      <th>pixel776</th>\n",
       "      <th>pixel777</th>\n",
       "      <th>pixel778</th>\n",
       "      <th>pixel779</th>\n",
       "      <th>pixel780</th>\n",
       "      <th>pixel781</th>\n",
       "      <th>pixel782</th>\n",
       "      <th>pixel783</th>\n",
       "    </tr>\n",
       "  </thead>\n",
       "  <tbody>\n",
       "    <tr>\n",
       "      <th>0</th>\n",
       "      <td>1</td>\n",
       "      <td>0</td>\n",
       "      <td>0</td>\n",
       "      <td>0</td>\n",
       "      <td>0</td>\n",
       "      <td>0</td>\n",
       "      <td>0</td>\n",
       "      <td>0</td>\n",
       "      <td>0</td>\n",
       "      <td>0</td>\n",
       "      <td>...</td>\n",
       "      <td>0</td>\n",
       "      <td>0</td>\n",
       "      <td>0</td>\n",
       "      <td>0</td>\n",
       "      <td>0</td>\n",
       "      <td>0</td>\n",
       "      <td>0</td>\n",
       "      <td>0</td>\n",
       "      <td>0</td>\n",
       "      <td>0</td>\n",
       "    </tr>\n",
       "    <tr>\n",
       "      <th>1</th>\n",
       "      <td>0</td>\n",
       "      <td>0</td>\n",
       "      <td>0</td>\n",
       "      <td>0</td>\n",
       "      <td>0</td>\n",
       "      <td>0</td>\n",
       "      <td>0</td>\n",
       "      <td>0</td>\n",
       "      <td>0</td>\n",
       "      <td>0</td>\n",
       "      <td>...</td>\n",
       "      <td>0</td>\n",
       "      <td>0</td>\n",
       "      <td>0</td>\n",
       "      <td>0</td>\n",
       "      <td>0</td>\n",
       "      <td>0</td>\n",
       "      <td>0</td>\n",
       "      <td>0</td>\n",
       "      <td>0</td>\n",
       "      <td>0</td>\n",
       "    </tr>\n",
       "    <tr>\n",
       "      <th>2</th>\n",
       "      <td>1</td>\n",
       "      <td>0</td>\n",
       "      <td>0</td>\n",
       "      <td>0</td>\n",
       "      <td>0</td>\n",
       "      <td>0</td>\n",
       "      <td>0</td>\n",
       "      <td>0</td>\n",
       "      <td>0</td>\n",
       "      <td>0</td>\n",
       "      <td>...</td>\n",
       "      <td>0</td>\n",
       "      <td>0</td>\n",
       "      <td>0</td>\n",
       "      <td>0</td>\n",
       "      <td>0</td>\n",
       "      <td>0</td>\n",
       "      <td>0</td>\n",
       "      <td>0</td>\n",
       "      <td>0</td>\n",
       "      <td>0</td>\n",
       "    </tr>\n",
       "    <tr>\n",
       "      <th>3</th>\n",
       "      <td>4</td>\n",
       "      <td>0</td>\n",
       "      <td>0</td>\n",
       "      <td>0</td>\n",
       "      <td>0</td>\n",
       "      <td>0</td>\n",
       "      <td>0</td>\n",
       "      <td>0</td>\n",
       "      <td>0</td>\n",
       "      <td>0</td>\n",
       "      <td>...</td>\n",
       "      <td>0</td>\n",
       "      <td>0</td>\n",
       "      <td>0</td>\n",
       "      <td>0</td>\n",
       "      <td>0</td>\n",
       "      <td>0</td>\n",
       "      <td>0</td>\n",
       "      <td>0</td>\n",
       "      <td>0</td>\n",
       "      <td>0</td>\n",
       "    </tr>\n",
       "    <tr>\n",
       "      <th>4</th>\n",
       "      <td>0</td>\n",
       "      <td>0</td>\n",
       "      <td>0</td>\n",
       "      <td>0</td>\n",
       "      <td>0</td>\n",
       "      <td>0</td>\n",
       "      <td>0</td>\n",
       "      <td>0</td>\n",
       "      <td>0</td>\n",
       "      <td>0</td>\n",
       "      <td>...</td>\n",
       "      <td>0</td>\n",
       "      <td>0</td>\n",
       "      <td>0</td>\n",
       "      <td>0</td>\n",
       "      <td>0</td>\n",
       "      <td>0</td>\n",
       "      <td>0</td>\n",
       "      <td>0</td>\n",
       "      <td>0</td>\n",
       "      <td>0</td>\n",
       "    </tr>\n",
       "  </tbody>\n",
       "</table>\n",
       "<p>5 rows × 785 columns</p>\n",
       "</div>"
      ],
      "text/plain": [
       "   label  pixel0  pixel1  pixel2  pixel3  pixel4  pixel5  pixel6  pixel7  \\\n",
       "0      1       0       0       0       0       0       0       0       0   \n",
       "1      0       0       0       0       0       0       0       0       0   \n",
       "2      1       0       0       0       0       0       0       0       0   \n",
       "3      4       0       0       0       0       0       0       0       0   \n",
       "4      0       0       0       0       0       0       0       0       0   \n",
       "\n",
       "   pixel8  ...  pixel774  pixel775  pixel776  pixel777  pixel778  pixel779  \\\n",
       "0       0  ...         0         0         0         0         0         0   \n",
       "1       0  ...         0         0         0         0         0         0   \n",
       "2       0  ...         0         0         0         0         0         0   \n",
       "3       0  ...         0         0         0         0         0         0   \n",
       "4       0  ...         0         0         0         0         0         0   \n",
       "\n",
       "   pixel780  pixel781  pixel782  pixel783  \n",
       "0         0         0         0         0  \n",
       "1         0         0         0         0  \n",
       "2         0         0         0         0  \n",
       "3         0         0         0         0  \n",
       "4         0         0         0         0  \n",
       "\n",
       "[5 rows x 785 columns]"
      ]
     },
     "execution_count": 4,
     "metadata": {},
     "output_type": "execute_result"
    }
   ],
   "source": [
    "data.head()"
   ]
  },
  {
   "cell_type": "code",
   "execution_count": 5,
   "id": "0cd61ebd",
   "metadata": {
    "execution": {
     "iopub.execute_input": "2024-10-29T09:40:24.855673Z",
     "iopub.status.busy": "2024-10-29T09:40:24.854399Z",
     "iopub.status.idle": "2024-10-29T09:40:25.700867Z",
     "shell.execute_reply": "2024-10-29T09:40:25.699689Z"
    },
    "papermill": {
     "duration": 0.860405,
     "end_time": "2024-10-29T09:40:25.703863",
     "exception": false,
     "start_time": "2024-10-29T09:40:24.843458",
     "status": "completed"
    },
    "tags": []
   },
   "outputs": [],
   "source": [
    "data=np.array(data)\n",
    "m,n=data.shape\n",
    "np.random.shuffle(data)\n",
    "\n",
    "data_val=data[0:1000].T\n",
    "Y_val=data_val[0]\n",
    "X_val=data_val[1:n]\n",
    "X_val=X_val/255.\n",
    "\n",
    "data_train=data[1000:m].T\n",
    "Y_train=data_train[0]\n",
    "X_train=data_train[1:n]\n",
    "X_train=X_train/255.\n",
    "_,m_train=X_train.shape"
   ]
  },
  {
   "cell_type": "code",
   "execution_count": 6,
   "id": "0fa0eb99",
   "metadata": {
    "execution": {
     "iopub.execute_input": "2024-10-29T09:40:25.719338Z",
     "iopub.status.busy": "2024-10-29T09:40:25.718891Z",
     "iopub.status.idle": "2024-10-29T09:40:25.728158Z",
     "shell.execute_reply": "2024-10-29T09:40:25.727028Z"
    },
    "papermill": {
     "duration": 0.020127,
     "end_time": "2024-10-29T09:40:25.730839",
     "exception": false,
     "start_time": "2024-10-29T09:40:25.710712",
     "status": "completed"
    },
    "tags": []
   },
   "outputs": [
    {
     "data": {
      "text/plain": [
       "array([8, 4, 6, ..., 9, 1, 1])"
      ]
     },
     "execution_count": 6,
     "metadata": {},
     "output_type": "execute_result"
    }
   ],
   "source": [
    "Y_train"
   ]
  },
  {
   "cell_type": "code",
   "execution_count": 7,
   "id": "061ca8dc",
   "metadata": {
    "execution": {
     "iopub.execute_input": "2024-10-29T09:40:25.746457Z",
     "iopub.status.busy": "2024-10-29T09:40:25.745469Z",
     "iopub.status.idle": "2024-10-29T09:40:25.750455Z",
     "shell.execute_reply": "2024-10-29T09:40:25.749447Z"
    },
    "papermill": {
     "duration": 0.015278,
     "end_time": "2024-10-29T09:40:25.752884",
     "exception": false,
     "start_time": "2024-10-29T09:40:25.737606",
     "status": "completed"
    },
    "tags": []
   },
   "outputs": [],
   "source": [
    "\n",
    "\n",
    "# Our NN will have a simple two-layer architecture. Input layer will have 784 units corresponding to the 784 pixels in each 28x28 input image. \n",
    "# A hidden layer1 will have 10 units with ReLU activation, \n",
    "# and finally our output layer will have 10 units corresponding to the ten digit classes with softmax activation.\n",
    "\n"
   ]
  },
  {
   "cell_type": "code",
   "execution_count": 8,
   "id": "c2d119be",
   "metadata": {
    "execution": {
     "iopub.execute_input": "2024-10-29T09:40:25.768228Z",
     "iopub.status.busy": "2024-10-29T09:40:25.767838Z",
     "iopub.status.idle": "2024-10-29T09:40:25.782568Z",
     "shell.execute_reply": "2024-10-29T09:40:25.781482Z"
    },
    "papermill": {
     "duration": 0.025245,
     "end_time": "2024-10-29T09:40:25.784939",
     "exception": false,
     "start_time": "2024-10-29T09:40:25.759694",
     "status": "completed"
    },
    "tags": []
   },
   "outputs": [],
   "source": [
    "def start_params(): #this is the starting weights and bias of our model (random as of now, since we have not trained our model)\n",
    "    W1=np.random.rand(10,784)-0.5\n",
    "    b1=np.random.rand(10,1)-0.5\n",
    "    W2=np.random.rand(10,10)-0.5\n",
    "    b2=np.random.rand(10,1)-0.5\n",
    "    return W1,b1,W2,b2\n",
    "\n",
    "def ReLu(Z):\n",
    "    return np.maximum(Z,0)\n",
    "\n",
    "def Softmax(Z):\n",
    "    A= np.exp(Z)/sum(np.exp(Z))\n",
    "    return A\n",
    "\n",
    "def forward_prop(W1,b1,W2,b2,X):  # here X is the training input that we will give when calling the func\n",
    "    Z1=W1.dot(X)+b1\n",
    "    A1=ReLu(Z1)\n",
    "    Z2=W2.dot(A1)+b2\n",
    "    A2=Softmax(Z2)\n",
    "    return Z1,A1,Z2,A2\n",
    "\n",
    "def ReLu_reverse(Z):  # while doing back prop we will want to reverse the effect of relu \n",
    "    return Z>0\n",
    "\n",
    "def one_hot(Y): # taking one label '4' and encoding it as [0,0,0,0,1,0,0,0...]\n",
    "    one_hot_Y=np.zeros((Y.size,Y.max()+1))\n",
    "    one_hot_Y[np.arange(Y.size),Y]=1  # making the probablity dist of the current label as 1\n",
    "    one_hot_Y=one_hot_Y.T # transpose to make every example as a coulmn instead of a row\n",
    "    return one_hot_Y\n",
    "\n",
    "def back_prop(Z1,A1,Z2,A2,W1,W2,X,Y):\n",
    "    one_hot_Y=one_hot(Y)\n",
    "    #calculation of how much deviation is needed to get the corrrect output\n",
    "    dZ2=A2-one_hot_Y\n",
    "    dW2=1/m*dZ2.dot(A1.T)\n",
    "    db2=1/m*np.sum(dZ2)\n",
    "    dZ1=W2.T.dot(dZ2)*ReLu_reverse(Z1)\n",
    "    dW1=1/m*dZ1.dot(X.T)\n",
    "    db1=1/m*np.sum(dZ1)\n",
    "    \n",
    "    return dW1,db1,dW2,db2\n",
    "\n",
    "def update_params(W1,b1,W2,b2,dW1,db1,dW2,db2,alpha): #alpha is the learning rate and must be given by the user\n",
    "    W1=W1-alpha*(dW1)\n",
    "    W2=W2-alpha*dW2\n",
    "    b1=b1-alpha*db1\n",
    "    b2=b2-alpha*db2\n",
    "    return W1,b1,W2,b2"
   ]
  },
  {
   "cell_type": "code",
   "execution_count": 9,
   "id": "cb9741c9",
   "metadata": {
    "execution": {
     "iopub.execute_input": "2024-10-29T09:40:25.800968Z",
     "iopub.status.busy": "2024-10-29T09:40:25.800574Z",
     "iopub.status.idle": "2024-10-29T09:40:25.806530Z",
     "shell.execute_reply": "2024-10-29T09:40:25.805476Z"
    },
    "papermill": {
     "duration": 0.016183,
     "end_time": "2024-10-29T09:40:25.808893",
     "exception": false,
     "start_time": "2024-10-29T09:40:25.792710",
     "status": "completed"
    },
    "tags": []
   },
   "outputs": [],
   "source": [
    "# couple of func that will help us keep track of the training\n",
    "def get_pred(A2):\n",
    "    return np.argmax(A2,0)\n",
    "\n",
    "def get_accuracy(pred,Y):\n",
    "    print(pred, Y)\n",
    "    return np.sum(pred==Y)/Y.size\n",
    "\n"
   ]
  },
  {
   "cell_type": "code",
   "execution_count": 10,
   "id": "04fb84bb",
   "metadata": {
    "execution": {
     "iopub.execute_input": "2024-10-29T09:40:25.824072Z",
     "iopub.status.busy": "2024-10-29T09:40:25.823260Z",
     "iopub.status.idle": "2024-10-29T09:40:25.831277Z",
     "shell.execute_reply": "2024-10-29T09:40:25.830276Z"
    },
    "papermill": {
     "duration": 0.018151,
     "end_time": "2024-10-29T09:40:25.833617",
     "exception": false,
     "start_time": "2024-10-29T09:40:25.815466",
     "status": "completed"
    },
    "tags": []
   },
   "outputs": [],
   "source": [
    "# writing the gradient descent algo\n",
    "\n",
    "def gradient_des(X,Y,alpha,n_iter):\n",
    "    W1,b1,W2,b2=start_params()\n",
    "    for i in range(n_iter):\n",
    "        Z1,A1,Z2,A2=forward_prop(W1, b1, W2, b2, X)\n",
    "        dW1,db1,dW2,db2=back_prop(Z1, A1, Z2, A2, W1, W2, X, Y)\n",
    "        W1,b1,W2,b2=update_params(W1, b1, W2, b2, dW1, db1, dW2, db2, alpha)\n",
    "        # tracking the progress\n",
    "        if i%10==0:\n",
    "            print(\"Iteration : \",i)\n",
    "            pred=get_pred(A2)\n",
    "            print(get_accuracy(pred,Y))\n",
    "            \n",
    "    return W1,b1,W2,b2        "
   ]
  },
  {
   "cell_type": "code",
   "execution_count": 11,
   "id": "667ac533",
   "metadata": {
    "execution": {
     "iopub.execute_input": "2024-10-29T09:40:25.848552Z",
     "iopub.status.busy": "2024-10-29T09:40:25.848137Z",
     "iopub.status.idle": "2024-10-29T09:41:25.483142Z",
     "shell.execute_reply": "2024-10-29T09:41:25.481622Z"
    },
    "papermill": {
     "duration": 59.647372,
     "end_time": "2024-10-29T09:41:25.487759",
     "exception": false,
     "start_time": "2024-10-29T09:40:25.840387",
     "status": "completed"
    },
    "tags": []
   },
   "outputs": [
    {
     "name": "stdout",
     "output_type": "stream",
     "text": [
      "Iteration :  0\n",
      "[5 2 2 ... 2 5 5] [8 4 6 ... 9 1 1]\n",
      "0.1005609756097561\n",
      "Iteration :  10\n",
      "[8 7 2 ... 9 4 5] [8 4 6 ... 9 1 1]\n",
      "0.1969268292682927\n",
      "Iteration :  20\n",
      "[8 7 8 ... 9 4 5] [8 4 6 ... 9 1 1]\n",
      "0.2704390243902439\n",
      "Iteration :  30\n",
      "[8 7 8 ... 9 4 5] [8 4 6 ... 9 1 1]\n",
      "0.33651219512195124\n",
      "Iteration :  40\n",
      "[8 7 8 ... 9 4 5] [8 4 6 ... 9 1 1]\n",
      "0.4073170731707317\n",
      "Iteration :  50\n",
      "[8 9 8 ... 9 0 5] [8 4 6 ... 9 1 1]\n",
      "0.47297560975609754\n",
      "Iteration :  60\n",
      "[8 9 8 ... 9 0 1] [8 4 6 ... 9 1 1]\n",
      "0.5299756097560976\n",
      "Iteration :  70\n",
      "[8 4 8 ... 9 1 1] [8 4 6 ... 9 1 1]\n",
      "0.5714390243902439\n",
      "Iteration :  80\n",
      "[8 4 8 ... 9 1 1] [8 4 6 ... 9 1 1]\n",
      "0.6039756097560975\n",
      "Iteration :  90\n",
      "[8 4 8 ... 9 1 1] [8 4 6 ... 9 1 1]\n",
      "0.6288292682926829\n",
      "Iteration :  100\n",
      "[8 4 8 ... 9 1 1] [8 4 6 ... 9 1 1]\n",
      "0.6488048780487805\n",
      "Iteration :  110\n",
      "[8 4 8 ... 9 1 1] [8 4 6 ... 9 1 1]\n",
      "0.6668780487804878\n",
      "Iteration :  120\n",
      "[8 4 8 ... 9 1 1] [8 4 6 ... 9 1 1]\n",
      "0.6844878048780488\n",
      "Iteration :  130\n",
      "[8 4 8 ... 9 1 1] [8 4 6 ... 9 1 1]\n",
      "0.7005365853658536\n",
      "Iteration :  140\n",
      "[8 4 8 ... 9 1 1] [8 4 6 ... 9 1 1]\n",
      "0.7150243902439024\n",
      "Iteration :  150\n",
      "[8 4 8 ... 9 1 1] [8 4 6 ... 9 1 1]\n",
      "0.7262926829268292\n",
      "Iteration :  160\n",
      "[8 4 8 ... 9 1 1] [8 4 6 ... 9 1 1]\n",
      "0.7376341463414634\n",
      "Iteration :  170\n",
      "[8 4 8 ... 9 1 1] [8 4 6 ... 9 1 1]\n",
      "0.747219512195122\n",
      "Iteration :  180\n",
      "[8 4 8 ... 9 1 1] [8 4 6 ... 9 1 1]\n",
      "0.755219512195122\n",
      "Iteration :  190\n",
      "[8 4 8 ... 9 1 1] [8 4 6 ... 9 1 1]\n",
      "0.7624146341463415\n",
      "Iteration :  200\n",
      "[8 4 8 ... 9 1 1] [8 4 6 ... 9 1 1]\n",
      "0.7691219512195122\n",
      "Iteration :  210\n",
      "[8 4 8 ... 9 1 1] [8 4 6 ... 9 1 1]\n",
      "0.7750731707317073\n",
      "Iteration :  220\n",
      "[8 4 8 ... 9 1 1] [8 4 6 ... 9 1 1]\n",
      "0.7806585365853659\n",
      "Iteration :  230\n",
      "[8 4 8 ... 9 1 1] [8 4 6 ... 9 1 1]\n",
      "0.7855121951219513\n",
      "Iteration :  240\n",
      "[8 4 6 ... 9 1 1] [8 4 6 ... 9 1 1]\n",
      "0.7898780487804878\n",
      "Iteration :  250\n",
      "[8 4 6 ... 9 1 1] [8 4 6 ... 9 1 1]\n",
      "0.7941707317073171\n",
      "Iteration :  260\n",
      "[8 4 6 ... 9 1 1] [8 4 6 ... 9 1 1]\n",
      "0.7981463414634147\n",
      "Iteration :  270\n",
      "[8 4 6 ... 9 1 1] [8 4 6 ... 9 1 1]\n",
      "0.8021707317073171\n",
      "Iteration :  280\n",
      "[8 4 6 ... 9 1 1] [8 4 6 ... 9 1 1]\n",
      "0.8052682926829269\n",
      "Iteration :  290\n",
      "[8 4 6 ... 9 1 1] [8 4 6 ... 9 1 1]\n",
      "0.8082926829268293\n",
      "Iteration :  300\n",
      "[8 4 6 ... 9 1 1] [8 4 6 ... 9 1 1]\n",
      "0.8119268292682927\n",
      "Iteration :  310\n",
      "[8 4 6 ... 9 1 1] [8 4 6 ... 9 1 1]\n",
      "0.8147073170731707\n",
      "Iteration :  320\n",
      "[8 4 6 ... 9 1 1] [8 4 6 ... 9 1 1]\n",
      "0.8168536585365853\n",
      "Iteration :  330\n",
      "[8 4 6 ... 9 1 1] [8 4 6 ... 9 1 1]\n",
      "0.8194878048780487\n",
      "Iteration :  340\n",
      "[8 4 6 ... 9 1 1] [8 4 6 ... 9 1 1]\n",
      "0.8217560975609756\n",
      "Iteration :  350\n",
      "[8 4 6 ... 9 1 1] [8 4 6 ... 9 1 1]\n",
      "0.8239024390243902\n",
      "Iteration :  360\n",
      "[8 4 6 ... 9 1 1] [8 4 6 ... 9 1 1]\n",
      "0.8261219512195122\n",
      "Iteration :  370\n",
      "[8 4 6 ... 9 1 1] [8 4 6 ... 9 1 1]\n",
      "0.8279756097560975\n",
      "Iteration :  380\n",
      "[8 4 6 ... 9 1 1] [8 4 6 ... 9 1 1]\n",
      "0.8298536585365853\n",
      "Iteration :  390\n",
      "[8 4 6 ... 9 1 1] [8 4 6 ... 9 1 1]\n",
      "0.8315609756097561\n",
      "Iteration :  400\n",
      "[8 4 6 ... 9 1 1] [8 4 6 ... 9 1 1]\n",
      "0.833390243902439\n",
      "Iteration :  410\n",
      "[8 4 6 ... 9 1 1] [8 4 6 ... 9 1 1]\n",
      "0.8350243902439024\n",
      "Iteration :  420\n",
      "[8 4 6 ... 9 1 1] [8 4 6 ... 9 1 1]\n",
      "0.8362926829268292\n",
      "Iteration :  430\n",
      "[8 4 6 ... 9 1 1] [8 4 6 ... 9 1 1]\n",
      "0.8378536585365853\n",
      "Iteration :  440\n",
      "[8 4 6 ... 9 1 1] [8 4 6 ... 9 1 1]\n",
      "0.8395121951219512\n",
      "Iteration :  450\n",
      "[8 4 6 ... 9 1 1] [8 4 6 ... 9 1 1]\n",
      "0.8408048780487805\n",
      "Iteration :  460\n",
      "[8 4 6 ... 9 1 1] [8 4 6 ... 9 1 1]\n",
      "0.8421463414634146\n",
      "Iteration :  470\n",
      "[8 4 6 ... 9 1 1] [8 4 6 ... 9 1 1]\n",
      "0.8435365853658536\n",
      "Iteration :  480\n",
      "[8 4 6 ... 9 1 1] [8 4 6 ... 9 1 1]\n",
      "0.8445365853658536\n",
      "Iteration :  490\n",
      "[8 4 6 ... 9 1 1] [8 4 6 ... 9 1 1]\n",
      "0.8456585365853658\n"
     ]
    }
   ],
   "source": [
    "W1,b1,W2,b2=gradient_des(X_train,Y_train,0.10,500)"
   ]
  },
  {
   "cell_type": "markdown",
   "id": "4475a4d3",
   "metadata": {
    "papermill": {
     "duration": 0.022246,
     "end_time": "2024-10-29T09:41:25.533414",
     "exception": false,
     "start_time": "2024-10-29T09:41:25.511168",
     "status": "completed"
    },
    "tags": []
   },
   "source": [
    "84% accuracy pretty good considering the size of the NN"
   ]
  },
  {
   "cell_type": "code",
   "execution_count": 12,
   "id": "e78c7df7",
   "metadata": {
    "execution": {
     "iopub.execute_input": "2024-10-29T09:41:25.582405Z",
     "iopub.status.busy": "2024-10-29T09:41:25.581729Z",
     "iopub.status.idle": "2024-10-29T09:41:25.595139Z",
     "shell.execute_reply": "2024-10-29T09:41:25.593988Z"
    },
    "papermill": {
     "duration": 0.042496,
     "end_time": "2024-10-29T09:41:25.599199",
     "exception": false,
     "start_time": "2024-10-29T09:41:25.556703",
     "status": "completed"
    },
    "tags": []
   },
   "outputs": [],
   "source": [
    "def make_predictions(X, W1, b1, W2, b2):\n",
    "    _, _, _, A2 = forward_prop(W1, b1, W2, b2, X)\n",
    "    predictions = get_pred(A2)\n",
    "    return predictions\n",
    "\n",
    "def test_prediction(index, W1, b1, W2, b2):\n",
    "    current_image = X_train[:, index, None]\n",
    "    prediction = make_predictions(X_train[:, index, None], W1, b1, W2, b2)\n",
    "    label = Y_train[index]\n",
    "    print(\"Prediction: \", prediction)\n",
    "    print(\"Label: \", label)\n",
    "    \n",
    "    current_image = current_image.reshape((28, 28)) * 255\n",
    "    plt.gray()\n",
    "    plt.imshow(current_image, interpolation='nearest')\n",
    "    plt.show()"
   ]
  },
  {
   "cell_type": "code",
   "execution_count": 13,
   "id": "a79f2d1c",
   "metadata": {
    "execution": {
     "iopub.execute_input": "2024-10-29T09:41:25.624310Z",
     "iopub.status.busy": "2024-10-29T09:41:25.623906Z",
     "iopub.status.idle": "2024-10-29T09:41:26.432203Z",
     "shell.execute_reply": "2024-10-29T09:41:26.431038Z"
    },
    "papermill": {
     "duration": 0.823499,
     "end_time": "2024-10-29T09:41:26.434826",
     "exception": false,
     "start_time": "2024-10-29T09:41:25.611327",
     "status": "completed"
    },
    "tags": []
   },
   "outputs": [
    {
     "name": "stdout",
     "output_type": "stream",
     "text": [
      "Prediction:  [8]\n",
      "Label:  8\n"
     ]
    },
    {
     "data": {
      "image/png": "[encoded data removed]",
      "text/plain": [
       "<Figure size 640x480 with 1 Axes>"
      ]
     },
     "metadata": {},
     "output_type": "display_data"
    },
    {
     "name": "stdout",
     "output_type": "stream",
     "text": [
      "Prediction:  [4]\n",
      "Label:  4\n"
     ]
    },
    {
     "data": {
      "image/png": "[encoded data removed]",
      "text/plain": [
       "<Figure size 640x480 with 1 Axes>"
      ]
     },
     "metadata": {},
     "output_type": "display_data"
    },
    {
     "name": "stdout",
     "output_type": "stream",
     "text": [
      "Prediction:  [6]\n",
      "Label:  6\n"
     ]
    },
    {
     "data": {
      "image/png": "[encoded data removed]",
      "text/plain": [
       "<Figure size 640x480 with 1 Axes>"
      ]
     },
     "metadata": {},
     "output_type": "display_data"
    },
    {
     "name": "stdout",
     "output_type": "stream",
     "text": [
      "Prediction:  [6]\n",
      "Label:  6\n"
     ]
    },
    {
     "data": {
      "image/png": "[encoded data removed]",
      "text/plain": [
       "<Figure size 640x480 with 1 Axes>"
      ]
     },
     "metadata": {},
     "output_type": "display_data"
    }
   ],
   "source": [
    "test_prediction(0, W1, b1, W2, b2)\n",
    "test_prediction(1, W1, b1, W2, b2)\n",
    "test_prediction(2, W1, b1, W2, b2)\n",
    "test_prediction(3, W1, b1, W2, b2)"
   ]
  },
  {
   "cell_type": "markdown",
   "id": "99d024d0",
   "metadata": {
    "papermill": {
     "duration": 0.012278,
     "end_time": "2024-10-29T09:41:26.460083",
     "exception": false,
     "start_time": "2024-10-29T09:41:26.447805",
     "status": "completed"
    },
    "tags": []
   },
   "source": [
    "lets check it on our val data"
   ]
  },
  {
   "cell_type": "code",
   "execution_count": 14,
   "id": "805fdd91",
   "metadata": {
    "execution": {
     "iopub.execute_input": "2024-10-29T09:41:26.487750Z",
     "iopub.status.busy": "2024-10-29T09:41:26.486970Z",
     "iopub.status.idle": "2024-10-29T09:41:26.517362Z",
     "shell.execute_reply": "2024-10-29T09:41:26.514172Z"
    },
    "papermill": {
     "duration": 0.048547,
     "end_time": "2024-10-29T09:41:26.521474",
     "exception": false,
     "start_time": "2024-10-29T09:41:26.472927",
     "status": "completed"
    },
    "tags": []
   },
   "outputs": [
    {
     "name": "stdout",
     "output_type": "stream",
     "text": [
      "[4 7 9 3 3 1 5 8 5 3 4 5 6 3 1 2 1 1 9 2 2 8 1 1 9 9 6 9 2 0 1 8 3 1 9 2 4\n",
      " 0 0 4 8 7 8 0 7 7 8 9 6 1 7 7 9 2 1 7 7 5 8 0 4 5 5 2 1 9 7 6 1 6 6 4 6 8\n",
      " 0 0 9 8 7 7 6 3 6 1 3 0 2 6 9 4 4 9 5 4 9 0 3 5 9 1 3 1 9 1 1 4 1 0 6 1 4\n",
      " 7 2 7 6 2 1 2 9 1 9 4 7 9 1 1 7 6 3 3 4 8 1 4 4 8 6 6 7 0 0 1 5 3 9 2 3 0\n",
      " 5 6 9 5 6 2 3 9 6 6 1 6 4 6 1 7 2 5 8 9 6 3 1 9 2 7 5 1 0 9 5 3 5 8 0 1 4\n",
      " 8 3 7 8 1 1 5 8 3 0 9 2 0 3 9 4 1 7 4 6 3 8 7 2 2 1 6 6 1 4 7 8 4 3 8 1 2\n",
      " 6 0 6 3 3 8 3 8 9 9 7 5 5 7 1 3 7 3 0 0 8 9 9 6 4 3 5 3 7 4 3 3 5 6 0 0 1\n",
      " 3 0 5 5 0 3 8 3 0 1 4 3 1 1 5 4 1 4 7 2 1 0 5 2 4 7 9 1 4 6 2 2 5 4 8 6 3\n",
      " 9 5 7 3 8 1 2 5 9 3 3 0 7 0 3 4 5 7 3 5 5 2 7 2 6 1 7 0 4 2 7 0 3 5 6 6 9\n",
      " 8 7 5 5 0 0 4 5 2 1 5 0 4 1 1 1 7 6 1 3 9 3 9 1 4 5 0 8 1 9 3 2 0 5 9 7 8\n",
      " 2 3 8 6 6 4 6 9 9 7 7 3 7 5 4 9 7 8 9 2 2 2 1 9 3 1 1 3 2 1 8 0 4 4 0 7 5\n",
      " 6 0 1 3 3 7 7 7 0 9 1 1 2 8 9 1 7 2 1 1 6 5 4 4 7 4 7 4 0 3 5 4 8 4 6 5 4\n",
      " 6 1 1 3 9 1 1 8 7 9 6 7 8 2 4 0 5 7 1 4 9 1 2 4 0 8 9 1 2 0 0 8 1 4 0 6 5\n",
      " 2 7 0 6 3 3 5 2 9 8 1 2 3 0 5 2 3 0 1 2 9 8 2 6 8 2 1 7 9 8 6 9 2 6 6 4 4\n",
      " 9 2 4 9 4 8 4 1 3 0 4 4 6 6 4 1 3 2 3 9 4 3 5 0 4 0 4 2 3 4 5 6 3 0 0 5 0\n",
      " 0 5 9 1 4 1 4 7 8 8 8 8 0 8 8 3 4 9 9 6 5 4 4 5 1 9 3 4 7 6 7 1 4 6 1 6 1\n",
      " 8 7 9 6 4 0 3 8 8 4 9 3 7 1 3 4 1 9 5 6 3 4 3 8 1 3 6 1 5 1 2 5 7 1 2 7 8\n",
      " 0 5 0 1 1 9 1 7 3 2 4 9 7 4 4 4 5 7 2 0 6 3 2 6 2 5 9 1 9 5 3 4 3 8 9 5 4\n",
      " 3 6 0 2 5 3 2 7 3 5 9 4 1 5 0 1 5 5 2 6 1 8 8 9 0 0 5 9 0 2 2 7 5 9 7 4 9\n",
      " 2 9 3 7 4 0 3 3 5 4 1 8 1 5 6 1 0 7 2 7 3 8 8 7 9 5 8 1 6 2 1 7 8 6 4 0 9\n",
      " 5 3 2 9 0 6 0 6 0 8 6 6 6 1 1 9 6 1 7 4 2 6 8 5 1 4 3 2 8 5 1 6 1 3 0 4 2\n",
      " 5 8 0 3 1 2 2 0 9 1 6 4 6 2 2 1 9 3 5 1 8 7 0 1 4 5 8 0 6 7 3 7 6 5 2 7 1\n",
      " 4 5 4 7 1 9 1 3 5 0 8 4 3 7 5 9 0 5 2 5 7 7 3 2 8 1 3 4 9 7 5 3 3 1 3 2 1\n",
      " 3 9 6 3 0 1 2 6 2 2 8 6 7 9 4 3 1 7 5 2 7 4 6 0 4 2 6 8 8 6 2 1 7 3 8 4 2\n",
      " 9 2 4 8 7 0 2 7 4 0 4 3 0 7 6 7 8 2 9 0 3 4 2 6 9 3 1 2 2 1 3 3 0 1 3 7 5\n",
      " 6 2 2 3 1 7 9 2 6 3 5 3 1 3 8 2 6 1 7 8 6 7 2 5 0 2 1 7 1 4 7 4 2 9 8 8 2\n",
      " 7 5 1 0 5 6 9 4 8 7 0 2 8 0 1 7 8 7 1 7 8 8 1 3 9 8 1 0 0 5 4 2 7 0 4 7 6\n",
      " 9] [4 7 9 3 3 1 3 8 8 3 4 5 6 3 1 2 1 1 5 2 2 8 1 1 9 9 6 9 2 0 1 8 3 1 9 8 4\n",
      " 0 3 2 5 3 8 0 7 7 8 9 6 1 7 7 9 2 1 7 7 5 8 0 4 5 5 2 2 9 9 6 7 6 6 4 6 8\n",
      " 0 0 7 8 7 7 6 3 6 1 8 0 3 6 9 4 4 9 5 4 9 0 3 5 9 1 3 8 9 1 1 4 1 0 6 5 4\n",
      " 7 2 7 6 2 1 2 7 1 9 4 7 9 1 1 7 6 3 3 4 8 1 4 2 8 6 6 7 0 0 1 5 3 4 2 3 0\n",
      " 5 6 9 5 6 2 3 9 5 6 1 6 4 4 1 5 2 8 8 9 0 3 1 3 3 7 5 1 0 9 5 3 5 8 0 1 6\n",
      " 1 3 2 8 5 1 5 8 3 0 9 2 0 3 9 9 1 7 4 6 3 8 7 2 2 1 6 6 8 2 7 8 4 8 8 1 2\n",
      " 6 0 6 3 3 8 3 5 9 9 5 5 5 7 1 3 1 3 5 0 8 9 9 6 4 3 5 5 7 4 3 3 3 6 0 0 1\n",
      " 3 0 5 3 0 3 8 3 0 1 4 3 1 1 5 8 1 4 9 2 1 0 3 2 4 7 9 1 4 6 2 2 5 4 8 4 3\n",
      " 9 8 7 3 8 1 2 5 9 3 3 0 7 0 3 4 5 9 3 4 5 2 7 2 6 1 7 0 4 2 2 0 3 7 6 6 9\n",
      " 8 7 5 5 0 0 6 5 2 8 5 0 4 1 1 1 7 4 1 3 9 8 9 1 4 5 0 8 1 9 3 2 0 5 7 7 8\n",
      " 2 5 5 6 6 4 6 9 9 7 7 3 7 5 5 9 7 8 9 2 2 2 1 9 5 1 1 8 3 1 8 0 4 4 0 7 5\n",
      " 6 3 1 3 3 3 7 7 0 9 1 1 2 8 9 8 7 5 1 1 6 1 4 4 7 4 7 4 0 3 5 5 1 4 6 5 4\n",
      " 6 1 1 2 4 1 1 8 7 7 6 7 8 2 4 0 5 7 1 4 9 1 2 4 0 8 9 1 3 0 0 8 1 4 0 6 5\n",
      " 2 7 0 0 3 3 0 2 9 8 1 2 3 0 5 2 3 0 1 2 9 5 2 6 8 2 1 7 9 8 6 9 2 6 6 9 9\n",
      " 9 2 4 9 4 8 4 1 3 4 6 4 8 8 4 1 3 2 3 9 4 3 5 0 4 0 4 2 3 4 5 6 3 5 0 9 0\n",
      " 0 5 2 1 4 1 4 7 8 8 8 8 6 8 5 3 6 9 9 6 5 4 4 5 1 9 3 9 7 4 7 1 4 6 1 6 1\n",
      " 8 7 9 6 5 0 3 8 8 4 9 3 7 1 3 4 1 9 5 5 3 4 3 8 1 3 6 1 5 1 2 5 7 1 5 7 8\n",
      " 0 3 0 1 1 9 1 7 3 7 4 9 7 4 4 4 3 7 2 0 6 3 2 6 2 5 8 1 9 5 3 4 8 8 9 5 4\n",
      " 3 6 0 2 5 8 2 7 8 5 4 4 8 5 0 1 5 5 2 6 8 8 6 9 0 0 5 9 0 2 2 7 5 9 7 4 9\n",
      " 2 9 3 7 4 0 3 9 5 5 1 1 1 5 6 1 0 7 2 7 3 8 8 7 9 5 8 1 6 7 1 7 8 6 4 0 7\n",
      " 5 3 2 8 0 6 0 6 0 8 6 6 6 1 1 9 6 1 7 4 2 6 8 5 1 4 3 2 8 5 1 6 1 3 0 4 2\n",
      " 5 8 0 3 1 2 2 0 4 1 6 4 6 2 2 1 9 3 5 1 8 7 0 1 4 5 8 3 6 7 3 7 6 0 2 2 1\n",
      " 4 5 4 7 1 9 1 3 5 0 8 4 3 7 5 9 0 5 2 5 7 7 3 2 8 1 3 8 9 8 5 3 3 1 3 2 1\n",
      " 3 9 6 3 0 5 2 6 2 2 8 6 7 7 4 3 1 7 3 8 7 4 6 0 4 2 6 8 8 6 2 1 7 9 8 4 2\n",
      " 7 2 4 8 7 0 2 7 4 0 0 3 0 7 6 7 9 9 7 6 9 9 2 8 9 3 1 2 6 1 3 3 0 2 3 7 5\n",
      " 6 2 2 3 1 7 9 2 6 0 5 3 1 3 5 2 6 1 7 1 5 7 2 5 0 2 1 7 1 4 9 4 9 9 8 8 2\n",
      " 7 5 1 0 5 6 9 8 8 7 0 2 4 0 1 7 5 7 1 7 8 3 1 3 9 8 1 0 0 5 4 2 7 0 4 7 6\n",
      " 5]\n"
     ]
    },
    {
     "data": {
      "text/plain": [
       "0.858"
      ]
     },
     "execution_count": 14,
     "metadata": {},
     "output_type": "execute_result"
    }
   ],
   "source": [
    "val_predictions = make_predictions(X_val, W1, b1, W2, b2)\n",
    "get_accuracy(val_predictions, Y_val)"
   ]
  },
  {
   "cell_type": "code",
   "execution_count": null,
   "id": "a1d87134",
   "metadata": {
    "papermill": {
     "duration": 0.026521,
     "end_time": "2024-10-29T09:41:26.575133",
     "exception": false,
     "start_time": "2024-10-29T09:41:26.548612",
     "status": "completed"
    },
    "tags": []
   },
   "outputs": [],
   "source": []
  }
 ],
 "metadata": {
  "kaggle": {
   "accelerator": "none",
   "dataSources": [
    {
     "databundleVersionId": 861823,
     "sourceId": 3004,
     "sourceType": "competition"
    }
   ],
   "dockerImageVersionId": 30786,
   "isGpuEnabled": false,
   "isInternetEnabled": true,
   "language": "python",
   "sourceType": "notebook"
  },
  "kernelspec": {
   "display_name": "Python 3",
   "language": "python",
   "name": "python3"
  },
  "language_info": {
   "codemirror_mode": {
    "name": "ipython",
    "version": 3
   },
   "file_extension": ".py",
   "mimetype": "text/x-python",
   "name": "python",
   "nbconvert_exporter": "python",
   "pygments_lexer": "ipython3",
   "version": "3.10.14"
  },
  "papermill": {
   "default_parameters": {},
   "duration": 70.585522,
   "end_time": "2024-10-29T09:41:27.127386",
   "environment_variables": {},
   "exception": null,
   "input_path": "__notebook__.ipynb",
   "output_path": "__notebook__.ipynb",
   "parameters": {},
   "start_time": "2024-10-29T09:40:16.541864",
   "version": "2.6.0"
  }
 },
 "nbformat": 4,
 "nbformat_minor": 5
}
