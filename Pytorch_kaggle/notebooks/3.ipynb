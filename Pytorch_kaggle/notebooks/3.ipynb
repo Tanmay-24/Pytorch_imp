{
 "cells": [
  {
   "cell_type": "code",
   "execution_count": 47,
   "metadata": {},
   "outputs": [],
   "source": [
    "import pandas as pd\n",
    "train=pd.read_csv(\"../data/cleaned_train.csv\")\n",
    "test=pd.read_csv(\"../data/cleaned_train.csv\")"
   ]
  },
  {
   "cell_type": "code",
   "execution_count": 48,
   "metadata": {},
   "outputs": [
    {
     "data": {
      "text/html": [
       "<div>\n",
       "<style scoped>\n",
       "    .dataframe tbody tr th:only-of-type {\n",
       "        vertical-align: middle;\n",
       "    }\n",
       "\n",
       "    .dataframe tbody tr th {\n",
       "        vertical-align: top;\n",
       "    }\n",
       "\n",
       "    .dataframe thead th {\n",
       "        text-align: right;\n",
       "    }\n",
       "</style>\n",
       "<table border=\"1\" class=\"dataframe\">\n",
       "  <thead>\n",
       "    <tr style=\"text-align: right;\">\n",
       "      <th></th>\n",
       "      <th>Unnamed: 0</th>\n",
       "      <th>Gender</th>\n",
       "      <th>Sleep Duration</th>\n",
       "      <th>Have you ever had suicidal thoughts ?</th>\n",
       "      <th>Work/Study Hours</th>\n",
       "      <th>Financial Stress</th>\n",
       "      <th>Depression</th>\n",
       "      <th>age_binned</th>\n",
       "      <th>Working Professional or Student_Working Professional</th>\n",
       "      <th>Dietary Habits_Moderate</th>\n",
       "      <th>Dietary Habits_Unhealthy</th>\n",
       "    </tr>\n",
       "  </thead>\n",
       "  <tbody>\n",
       "    <tr>\n",
       "      <th>0</th>\n",
       "      <td>0</td>\n",
       "      <td>1</td>\n",
       "      <td>2</td>\n",
       "      <td>0</td>\n",
       "      <td>0.083333</td>\n",
       "      <td>0.25</td>\n",
       "      <td>0</td>\n",
       "      <td>3</td>\n",
       "      <td>1.0</td>\n",
       "      <td>0.0</td>\n",
       "      <td>0.0</td>\n",
       "    </tr>\n",
       "    <tr>\n",
       "      <th>1</th>\n",
       "      <td>1</td>\n",
       "      <td>0</td>\n",
       "      <td>0</td>\n",
       "      <td>1</td>\n",
       "      <td>0.583333</td>\n",
       "      <td>0.50</td>\n",
       "      <td>1</td>\n",
       "      <td>1</td>\n",
       "      <td>1.0</td>\n",
       "      <td>0.0</td>\n",
       "      <td>1.0</td>\n",
       "    </tr>\n",
       "    <tr>\n",
       "      <th>2</th>\n",
       "      <td>3</td>\n",
       "      <td>0</td>\n",
       "      <td>0</td>\n",
       "      <td>1</td>\n",
       "      <td>0.833333</td>\n",
       "      <td>0.00</td>\n",
       "      <td>1</td>\n",
       "      <td>0</td>\n",
       "      <td>1.0</td>\n",
       "      <td>1.0</td>\n",
       "      <td>0.0</td>\n",
       "    </tr>\n",
       "    <tr>\n",
       "      <th>3</th>\n",
       "      <td>6</td>\n",
       "      <td>0</td>\n",
       "      <td>1</td>\n",
       "      <td>0</td>\n",
       "      <td>0.500000</td>\n",
       "      <td>0.25</td>\n",
       "      <td>0</td>\n",
       "      <td>3</td>\n",
       "      <td>1.0</td>\n",
       "      <td>1.0</td>\n",
       "      <td>0.0</td>\n",
       "    </tr>\n",
       "    <tr>\n",
       "      <th>4</th>\n",
       "      <td>7</td>\n",
       "      <td>0</td>\n",
       "      <td>1</td>\n",
       "      <td>0</td>\n",
       "      <td>0.833333</td>\n",
       "      <td>0.50</td>\n",
       "      <td>0</td>\n",
       "      <td>2</td>\n",
       "      <td>1.0</td>\n",
       "      <td>0.0</td>\n",
       "      <td>1.0</td>\n",
       "    </tr>\n",
       "  </tbody>\n",
       "</table>\n",
       "</div>"
      ],
      "text/plain": [
       "   Unnamed: 0  Gender  Sleep Duration  Have you ever had suicidal thoughts ?  \\\n",
       "0           0       1               2                                      0   \n",
       "1           1       0               0                                      1   \n",
       "2           3       0               0                                      1   \n",
       "3           6       0               1                                      0   \n",
       "4           7       0               1                                      0   \n",
       "\n",
       "   Work/Study Hours  Financial Stress  Depression  age_binned  \\\n",
       "0          0.083333              0.25           0           3   \n",
       "1          0.583333              0.50           1           1   \n",
       "2          0.833333              0.00           1           0   \n",
       "3          0.500000              0.25           0           3   \n",
       "4          0.833333              0.50           0           2   \n",
       "\n",
       "   Working Professional or Student_Working Professional  \\\n",
       "0                                                1.0      \n",
       "1                                                1.0      \n",
       "2                                                1.0      \n",
       "3                                                1.0      \n",
       "4                                                1.0      \n",
       "\n",
       "   Dietary Habits_Moderate  Dietary Habits_Unhealthy  \n",
       "0                      0.0                       0.0  \n",
       "1                      0.0                       1.0  \n",
       "2                      1.0                       0.0  \n",
       "3                      1.0                       0.0  \n",
       "4                      0.0                       1.0  "
      ]
     },
     "execution_count": 48,
     "metadata": {},
     "output_type": "execute_result"
    }
   ],
   "source": [
    "train.head()"
   ]
  },
  {
   "cell_type": "code",
   "execution_count": 49,
   "metadata": {},
   "outputs": [
    {
     "data": {
      "text/html": [
       "<div>\n",
       "<style scoped>\n",
       "    .dataframe tbody tr th:only-of-type {\n",
       "        vertical-align: middle;\n",
       "    }\n",
       "\n",
       "    .dataframe tbody tr th {\n",
       "        vertical-align: top;\n",
       "    }\n",
       "\n",
       "    .dataframe thead th {\n",
       "        text-align: right;\n",
       "    }\n",
       "</style>\n",
       "<table border=\"1\" class=\"dataframe\">\n",
       "  <thead>\n",
       "    <tr style=\"text-align: right;\">\n",
       "      <th></th>\n",
       "      <th>Unnamed: 0</th>\n",
       "      <th>Gender</th>\n",
       "      <th>Sleep Duration</th>\n",
       "      <th>Have you ever had suicidal thoughts ?</th>\n",
       "      <th>Work/Study Hours</th>\n",
       "      <th>Financial Stress</th>\n",
       "      <th>Depression</th>\n",
       "      <th>age_binned</th>\n",
       "      <th>Working Professional or Student_Working Professional</th>\n",
       "      <th>Dietary Habits_Moderate</th>\n",
       "      <th>Dietary Habits_Unhealthy</th>\n",
       "    </tr>\n",
       "  </thead>\n",
       "  <tbody>\n",
       "    <tr>\n",
       "      <th>0</th>\n",
       "      <td>0</td>\n",
       "      <td>1</td>\n",
       "      <td>2</td>\n",
       "      <td>0</td>\n",
       "      <td>0.083333</td>\n",
       "      <td>0.25</td>\n",
       "      <td>0</td>\n",
       "      <td>3</td>\n",
       "      <td>1.0</td>\n",
       "      <td>0.0</td>\n",
       "      <td>0.0</td>\n",
       "    </tr>\n",
       "    <tr>\n",
       "      <th>1</th>\n",
       "      <td>1</td>\n",
       "      <td>0</td>\n",
       "      <td>0</td>\n",
       "      <td>1</td>\n",
       "      <td>0.583333</td>\n",
       "      <td>0.50</td>\n",
       "      <td>1</td>\n",
       "      <td>1</td>\n",
       "      <td>1.0</td>\n",
       "      <td>0.0</td>\n",
       "      <td>1.0</td>\n",
       "    </tr>\n",
       "    <tr>\n",
       "      <th>2</th>\n",
       "      <td>3</td>\n",
       "      <td>0</td>\n",
       "      <td>0</td>\n",
       "      <td>1</td>\n",
       "      <td>0.833333</td>\n",
       "      <td>0.00</td>\n",
       "      <td>1</td>\n",
       "      <td>0</td>\n",
       "      <td>1.0</td>\n",
       "      <td>1.0</td>\n",
       "      <td>0.0</td>\n",
       "    </tr>\n",
       "    <tr>\n",
       "      <th>3</th>\n",
       "      <td>6</td>\n",
       "      <td>0</td>\n",
       "      <td>1</td>\n",
       "      <td>0</td>\n",
       "      <td>0.500000</td>\n",
       "      <td>0.25</td>\n",
       "      <td>0</td>\n",
       "      <td>3</td>\n",
       "      <td>1.0</td>\n",
       "      <td>1.0</td>\n",
       "      <td>0.0</td>\n",
       "    </tr>\n",
       "    <tr>\n",
       "      <th>4</th>\n",
       "      <td>7</td>\n",
       "      <td>0</td>\n",
       "      <td>1</td>\n",
       "      <td>0</td>\n",
       "      <td>0.833333</td>\n",
       "      <td>0.50</td>\n",
       "      <td>0</td>\n",
       "      <td>2</td>\n",
       "      <td>1.0</td>\n",
       "      <td>0.0</td>\n",
       "      <td>1.0</td>\n",
       "    </tr>\n",
       "  </tbody>\n",
       "</table>\n",
       "</div>"
      ],
      "text/plain": [
       "   Unnamed: 0  Gender  Sleep Duration  Have you ever had suicidal thoughts ?  \\\n",
       "0           0       1               2                                      0   \n",
       "1           1       0               0                                      1   \n",
       "2           3       0               0                                      1   \n",
       "3           6       0               1                                      0   \n",
       "4           7       0               1                                      0   \n",
       "\n",
       "   Work/Study Hours  Financial Stress  Depression  age_binned  \\\n",
       "0          0.083333              0.25           0           3   \n",
       "1          0.583333              0.50           1           1   \n",
       "2          0.833333              0.00           1           0   \n",
       "3          0.500000              0.25           0           3   \n",
       "4          0.833333              0.50           0           2   \n",
       "\n",
       "   Working Professional or Student_Working Professional  \\\n",
       "0                                                1.0      \n",
       "1                                                1.0      \n",
       "2                                                1.0      \n",
       "3                                                1.0      \n",
       "4                                                1.0      \n",
       "\n",
       "   Dietary Habits_Moderate  Dietary Habits_Unhealthy  \n",
       "0                      0.0                       0.0  \n",
       "1                      0.0                       1.0  \n",
       "2                      1.0                       0.0  \n",
       "3                      1.0                       0.0  \n",
       "4                      0.0                       1.0  "
      ]
     },
     "execution_count": 49,
     "metadata": {},
     "output_type": "execute_result"
    }
   ],
   "source": [
    "test.head()"
   ]
  },
  {
   "cell_type": "code",
   "execution_count": 50,
   "metadata": {},
   "outputs": [
    {
     "name": "stdout",
     "output_type": "stream",
     "text": [
      "Unnamed: 0\n",
      "Gender\n",
      "Sleep Duration\n",
      "Have you ever had suicidal thoughts ?\n",
      "Work/Study Hours\n",
      "Financial Stress\n",
      "Depression\n",
      "age_binned\n",
      "Working Professional or Student_Working Professional\n",
      "Dietary Habits_Moderate\n",
      "Dietary Habits_Unhealthy\n"
     ]
    }
   ],
   "source": [
    "for i in train.columns:\n",
    "    print(i)"
   ]
  },
  {
   "cell_type": "code",
   "execution_count": 51,
   "metadata": {},
   "outputs": [
    {
     "name": "stdout",
     "output_type": "stream",
     "text": [
      "<class 'pandas.core.frame.DataFrame'>\n",
      "RangeIndex: 108456 entries, 0 to 108455\n",
      "Data columns (total 11 columns):\n",
      " #   Column                                                Non-Null Count   Dtype  \n",
      "---  ------                                                --------------   -----  \n",
      " 0   Unnamed: 0                                            108456 non-null  int64  \n",
      " 1   Gender                                                108456 non-null  int64  \n",
      " 2   Sleep Duration                                        108456 non-null  int64  \n",
      " 3   Have you ever had suicidal thoughts ?                 108456 non-null  int64  \n",
      " 4   Work/Study Hours                                      108456 non-null  float64\n",
      " 5   Financial Stress                                      108454 non-null  float64\n",
      " 6   Depression                                            108456 non-null  int64  \n",
      " 7   age_binned                                            108456 non-null  int64  \n",
      " 8   Working Professional or Student_Working Professional  108456 non-null  float64\n",
      " 9   Dietary Habits_Moderate                               108456 non-null  float64\n",
      " 10  Dietary Habits_Unhealthy                              108456 non-null  float64\n",
      "dtypes: float64(5), int64(6)\n",
      "memory usage: 9.1 MB\n"
     ]
    }
   ],
   "source": [
    "train.info()"
   ]
  },
  {
   "cell_type": "code",
   "execution_count": 52,
   "metadata": {},
   "outputs": [
    {
     "data": {
      "text/plain": [
       "Unnamed: 0                                              0\n",
       "Gender                                                  0\n",
       "Sleep Duration                                          0\n",
       "Have you ever had suicidal thoughts ?                   0\n",
       "Work/Study Hours                                        0\n",
       "Financial Stress                                        2\n",
       "Depression                                              0\n",
       "age_binned                                              0\n",
       "Working Professional or Student_Working Professional    0\n",
       "Dietary Habits_Moderate                                 0\n",
       "Dietary Habits_Unhealthy                                0\n",
       "dtype: int64"
      ]
     },
     "execution_count": 52,
     "metadata": {},
     "output_type": "execute_result"
    }
   ],
   "source": [
    "train.isna().sum()"
   ]
  },
  {
   "cell_type": "code",
   "execution_count": 53,
   "metadata": {},
   "outputs": [],
   "source": [
    "train.dropna(inplace=True)"
   ]
  },
  {
   "cell_type": "code",
   "execution_count": 54,
   "metadata": {},
   "outputs": [
    {
     "data": {
      "text/plain": [
       "Unnamed: 0                                              0\n",
       "Gender                                                  0\n",
       "Sleep Duration                                          0\n",
       "Have you ever had suicidal thoughts ?                   0\n",
       "Work/Study Hours                                        0\n",
       "Financial Stress                                        0\n",
       "Depression                                              0\n",
       "age_binned                                              0\n",
       "Working Professional or Student_Working Professional    0\n",
       "Dietary Habits_Moderate                                 0\n",
       "Dietary Habits_Unhealthy                                0\n",
       "dtype: int64"
      ]
     },
     "execution_count": 54,
     "metadata": {},
     "output_type": "execute_result"
    }
   ],
   "source": [
    "train.isna().sum()"
   ]
  },
  {
   "cell_type": "code",
   "execution_count": 55,
   "metadata": {},
   "outputs": [
    {
     "name": "stdout",
     "output_type": "stream",
     "text": [
      "<class 'pandas.core.frame.DataFrame'>\n",
      "Index: 108454 entries, 0 to 108455\n",
      "Data columns (total 11 columns):\n",
      " #   Column                                                Non-Null Count   Dtype  \n",
      "---  ------                                                --------------   -----  \n",
      " 0   Unnamed: 0                                            108454 non-null  int64  \n",
      " 1   Gender                                                108454 non-null  int64  \n",
      " 2   Sleep Duration                                        108454 non-null  int64  \n",
      " 3   Have you ever had suicidal thoughts ?                 108454 non-null  int64  \n",
      " 4   Work/Study Hours                                      108454 non-null  float64\n",
      " 5   Financial Stress                                      108454 non-null  float64\n",
      " 6   Depression                                            108454 non-null  int64  \n",
      " 7   age_binned                                            108454 non-null  int64  \n",
      " 8   Working Professional or Student_Working Professional  108454 non-null  float64\n",
      " 9   Dietary Habits_Moderate                               108454 non-null  float64\n",
      " 10  Dietary Habits_Unhealthy                              108454 non-null  float64\n",
      "dtypes: float64(5), int64(6)\n",
      "memory usage: 9.9 MB\n"
     ]
    }
   ],
   "source": [
    "train.info()"
   ]
  },
  {
   "cell_type": "code",
   "execution_count": 56,
   "metadata": {},
   "outputs": [
    {
     "data": {
      "text/plain": [
       "Unnamed: 0                                              0\n",
       "Gender                                                  0\n",
       "Sleep Duration                                          0\n",
       "Have you ever had suicidal thoughts ?                   0\n",
       "Work/Study Hours                                        0\n",
       "Financial Stress                                        2\n",
       "Depression                                              0\n",
       "age_binned                                              0\n",
       "Working Professional or Student_Working Professional    0\n",
       "Dietary Habits_Moderate                                 0\n",
       "Dietary Habits_Unhealthy                                0\n",
       "dtype: int64"
      ]
     },
     "execution_count": 56,
     "metadata": {},
     "output_type": "execute_result"
    }
   ],
   "source": [
    "test.isna().sum()"
   ]
  },
  {
   "cell_type": "code",
   "execution_count": 57,
   "metadata": {},
   "outputs": [],
   "source": [
    "test.dropna(inplace=True)"
   ]
  },
  {
   "cell_type": "code",
   "execution_count": 58,
   "metadata": {},
   "outputs": [],
   "source": [
    "test=test.astype('int64')"
   ]
  },
  {
   "cell_type": "code",
   "execution_count": 59,
   "metadata": {},
   "outputs": [
    {
     "name": "stdout",
     "output_type": "stream",
     "text": [
      "<class 'pandas.core.frame.DataFrame'>\n",
      "Index: 108454 entries, 0 to 108455\n",
      "Data columns (total 11 columns):\n",
      " #   Column                                                Non-Null Count   Dtype\n",
      "---  ------                                                --------------   -----\n",
      " 0   Unnamed: 0                                            108454 non-null  int64\n",
      " 1   Gender                                                108454 non-null  int64\n",
      " 2   Sleep Duration                                        108454 non-null  int64\n",
      " 3   Have you ever had suicidal thoughts ?                 108454 non-null  int64\n",
      " 4   Work/Study Hours                                      108454 non-null  int64\n",
      " 5   Financial Stress                                      108454 non-null  int64\n",
      " 6   Depression                                            108454 non-null  int64\n",
      " 7   age_binned                                            108454 non-null  int64\n",
      " 8   Working Professional or Student_Working Professional  108454 non-null  int64\n",
      " 9   Dietary Habits_Moderate                               108454 non-null  int64\n",
      " 10  Dietary Habits_Unhealthy                              108454 non-null  int64\n",
      "dtypes: int64(11)\n",
      "memory usage: 9.9 MB\n"
     ]
    }
   ],
   "source": [
    "test.info()"
   ]
  },
  {
   "cell_type": "code",
   "execution_count": 60,
   "metadata": {},
   "outputs": [],
   "source": [
    "train.to_csv(\"../data/cleaned_test.csv\")\n",
    "test.to_csv(\"../data/cleaned_train.csv\")"
   ]
  },
  {
   "cell_type": "code",
   "execution_count": null,
   "metadata": {},
   "outputs": [],
   "source": []
  }
 ],
 "metadata": {
  "kernelspec": {
   "display_name": "kaggle",
   "language": "python",
   "name": "python3"
  },
  "language_info": {
   "codemirror_mode": {
    "name": "ipython",
    "version": 3
   },
   "file_extension": ".py",
   "mimetype": "text/x-python",
   "name": "python",
   "nbconvert_exporter": "python",
   "pygments_lexer": "ipython3",
   "version": "3.11.10"
  }
 },
 "nbformat": 4,
 "nbformat_minor": 2
}
